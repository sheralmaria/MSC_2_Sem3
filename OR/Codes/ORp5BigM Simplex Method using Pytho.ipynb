{
 "cells": [
  {
   "cell_type": "code",
   "execution_count": 2,
   "id": "7c26970b",
   "metadata": {},
   "outputs": [],
   "source": [
    "#Min z= 4x1 + x2\n",
    "#subjected to:\n",
    "#3x1 + 4x2 >= 20\n",
    "#x1 + 5x2 >= 15\n",
    "#x1, x2 >= 0"
   ]
  },
  {
   "cell_type": "code",
   "execution_count": 3,
   "id": "afdce4fa",
   "metadata": {},
   "outputs": [
    {
     "name": "stdout",
     "output_type": "stream",
     "text": [
      "Requirement already satisfied: scipy in c:\\users\\micha\\anaconda3\\lib\\site-packages (1.9.1)Note: you may need to restart the kernel to use updated packages.\n",
      "\n",
      "Requirement already satisfied: numpy<1.25.0,>=1.18.5 in c:\\users\\micha\\anaconda3\\lib\\site-packages (from scipy) (1.23.3)\n"
     ]
    }
   ],
   "source": [
    "%pip install scipy"
   ]
  },
  {
   "cell_type": "code",
   "execution_count": 4,
   "id": "4c914c91",
   "metadata": {},
   "outputs": [],
   "source": [
    "from scipy.optimize import linprog"
   ]
  },
  {
   "cell_type": "code",
   "execution_count": 5,
   "id": "9013246e",
   "metadata": {},
   "outputs": [],
   "source": [
    "obj = [4, 1]"
   ]
  },
  {
   "cell_type": "code",
   "execution_count": 6,
   "id": "3dcf5180",
   "metadata": {},
   "outputs": [],
   "source": [
    "lhs_ineq = [[ -3,  -4],  # left side of first constraint\n",
    "...                [-1,  -5]]  # right side of first constraint"
   ]
  },
  {
   "cell_type": "code",
   "execution_count": 7,
   "id": "13455752",
   "metadata": {},
   "outputs": [],
   "source": [
    "rhs_ineq = [-20,  # right side of first constraint \n",
    "...               -15]  # right side of Second constraint"
   ]
  },
  {
   "cell_type": "code",
   "execution_count": 8,
   "id": "94c44e31",
   "metadata": {},
   "outputs": [],
   "source": [
    "bnd = [(0, float(\"inf\")),  # Bounds of x1\n",
    "...        (0, float(\"inf\"))]  # Bounds of x2"
   ]
  },
  {
   "cell_type": "code",
   "execution_count": 9,
   "id": "d9ac8c00",
   "metadata": {},
   "outputs": [
    {
     "name": "stderr",
     "output_type": "stream",
     "text": [
      "C:\\Users\\micha\\AppData\\Local\\Temp\\ipykernel_10888\\655550376.py:1: DeprecationWarning: `method='interior-point'` is deprecated and will be removed in SciPy 1.11.0. Please use one of the HiGHS solvers (e.g. `method='highs'`) in new code.\n",
      "  opt = linprog(c=obj, A_ub=lhs_ineq, b_ub=rhs_ineq,\n"
     ]
    },
    {
     "data": {
      "text/plain": [
       "     con: array([], dtype=float64)\n",
       "     fun: 5.000000000236444\n",
       " message: 'Optimization terminated successfully.'\n",
       "     nit: 5\n",
       "   slack: array([1.6426327e-10, 1.0000000e+01])\n",
       "  status: 0\n",
       " success: True\n",
       "       x: array([6.01160437e-11, 5.00000000e+00])"
      ]
     },
     "execution_count": 9,
     "metadata": {},
     "output_type": "execute_result"
    }
   ],
   "source": [
    "opt = linprog(c=obj, A_ub=lhs_ineq, b_ub=rhs_ineq,\n",
    "...               bounds=bnd,method=\"interior-point\")\n",
    "opt"
   ]
  },
  {
   "cell_type": "code",
   "execution_count": null,
   "id": "1bd4eb37",
   "metadata": {},
   "outputs": [],
   "source": []
  }
 ],
 "metadata": {
  "kernelspec": {
   "display_name": "Python 3 (ipykernel)",
   "language": "python",
   "name": "python3"
  },
  "language_info": {
   "codemirror_mode": {
    "name": "ipython",
    "version": 3
   },
   "file_extension": ".py",
   "mimetype": "text/x-python",
   "name": "python",
   "nbconvert_exporter": "python",
   "pygments_lexer": "ipython3",
   "version": "3.9.12"
  }
 },
 "nbformat": 4,
 "nbformat_minor": 5
}
