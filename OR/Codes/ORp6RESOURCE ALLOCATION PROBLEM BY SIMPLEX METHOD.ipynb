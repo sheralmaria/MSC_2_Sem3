{
 "cells": [
  {
   "cell_type": "code",
   "execution_count": 1,
   "id": "39d9fea0",
   "metadata": {},
   "outputs": [],
   "source": [
    "#Max z= 20x1 + 12x2 +40x3 + 25x4 .............(profit)\n",
    "#subjected to:\n",
    "#x1 + x2 + x3 + x4 <= 50  -------------(manpower)\n",
    "#3x1 + 2x2 + x3    <= 100 -------------(material A)\n",
    " #      x2 + 2x3   <= 90  -------------(material B)\n",
    " #   x1, x2, x3, x4 >= 0"
   ]
  },
  {
   "cell_type": "code",
   "execution_count": 2,
   "id": "c4cf80a9",
   "metadata": {},
   "outputs": [
    {
     "name": "stdout",
     "output_type": "stream",
     "text": [
      "Requirement already satisfied: scipy in c:\\users\\micha\\anaconda3\\lib\\site-packages (1.9.1)Note: you may need to restart the kernel to use updated packages.\n",
      "\n",
      "Requirement already satisfied: numpy<1.25.0,>=1.18.5 in c:\\users\\micha\\anaconda3\\lib\\site-packages (from scipy) (1.23.3)\n"
     ]
    }
   ],
   "source": [
    "%pip install scipy"
   ]
  },
  {
   "cell_type": "code",
   "execution_count": 3,
   "id": "f0562eb7",
   "metadata": {},
   "outputs": [],
   "source": [
    "from scipy.optimize import linprog"
   ]
  },
  {
   "cell_type": "code",
   "execution_count": 4,
   "id": "239b8d1c",
   "metadata": {},
   "outputs": [],
   "source": [
    "obj = [-20, -12, -40, -25]      #profit objective function"
   ]
  },
  {
   "cell_type": "code",
   "execution_count": 5,
   "id": "c5ab1c57",
   "metadata": {},
   "outputs": [],
   "source": [
    "lhs_ineq = [[1, 1, 1, 1],  \t# Manpower\n",
    "...             [3, 2, 1, 0],  \t\t# Material A\n",
    "...             [0, 1, 2, 3]]  \t\t# Material B"
   ]
  },
  {
   "cell_type": "code",
   "execution_count": 6,
   "id": "7003f2e5",
   "metadata": {},
   "outputs": [],
   "source": [
    "rhs_ineq = [ 50,  # Manpower\n",
    "...             100,  # Material A\n",
    "...              90]  # Material B"
   ]
  },
  {
   "cell_type": "code",
   "execution_count": 7,
   "id": "b5bb7d39",
   "metadata": {},
   "outputs": [
    {
     "name": "stderr",
     "output_type": "stream",
     "text": [
      "C:\\Users\\micha\\AppData\\Local\\Temp\\ipykernel_11600\\1158421475.py:1: DeprecationWarning: `method='revised simplex'` is deprecated and will be removed in SciPy 1.11.0. Please use one of the HiGHS solvers (e.g. `method='highs'`) in new code.\n",
      "  opt = linprog(c=obj, A_ub=lhs_ineq, b_ub=rhs_ineq,\n"
     ]
    }
   ],
   "source": [
    "opt = linprog(c=obj, A_ub=lhs_ineq, b_ub=rhs_ineq,\n",
    "...               method=\"revised simplex\")"
   ]
  },
  {
   "cell_type": "code",
   "execution_count": 8,
   "id": "9b16aaed",
   "metadata": {},
   "outputs": [
    {
     "data": {
      "text/plain": [
       "     con: array([], dtype=float64)\n",
       "     fun: -1900.0\n",
       " message: 'Optimization terminated successfully.'\n",
       "     nit: 2\n",
       "   slack: array([ 0., 40.,  0.])\n",
       "  status: 0\n",
       " success: True\n",
       "       x: array([ 5.,  0., 45.,  0.])"
      ]
     },
     "execution_count": 8,
     "metadata": {},
     "output_type": "execute_result"
    }
   ],
   "source": [
    "opt"
   ]
  },
  {
   "cell_type": "code",
   "execution_count": null,
   "id": "58c1aa72",
   "metadata": {},
   "outputs": [],
   "source": []
  }
 ],
 "metadata": {
  "kernelspec": {
   "display_name": "Python 3 (ipykernel)",
   "language": "python",
   "name": "python3"
  },
  "language_info": {
   "codemirror_mode": {
    "name": "ipython",
    "version": 3
   },
   "file_extension": ".py",
   "mimetype": "text/x-python",
   "name": "python",
   "nbconvert_exporter": "python",
   "pygments_lexer": "ipython3",
   "version": "3.9.12"
  }
 },
 "nbformat": 4,
 "nbformat_minor": 5
}
