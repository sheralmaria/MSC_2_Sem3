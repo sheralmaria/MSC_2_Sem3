{
 "cells": [
  {
   "cell_type": "code",
   "execution_count": 3,
   "id": "a34dc31b",
   "metadata": {},
   "outputs": [
    {
     "name": "stdout",
     "output_type": "stream",
     "text": [
      "Collecting scipy\n",
      "  Downloading scipy-1.9.1-cp39-cp39-win_amd64.whl (38.6 MB)\n",
      "     ---------------------------------------- 38.6/38.6 MB 1.6 MB/s eta 0:00:00\n",
      "Requirement already satisfied: numpy<1.25.0,>=1.18.5 in c:\\users\\micha\\anaconda3\\lib\\site-packages (from scipy) (1.23.3)\n",
      "Installing collected packages: scipy\n",
      "Successfully installed scipy-1.9.1\n",
      "Note: you may need to restart the kernel to use updated packages.\n"
     ]
    }
   ],
   "source": [
    "%pip install scipy"
   ]
  },
  {
   "cell_type": "code",
   "execution_count": 4,
   "id": "5e29b395",
   "metadata": {},
   "outputs": [],
   "source": [
    "from scipy.optimize import linprog"
   ]
  },
  {
   "cell_type": "code",
   "execution_count": 5,
   "id": "5b3e8074",
   "metadata": {},
   "outputs": [],
   "source": [
    "#Max z=3x1+2x2\n",
    "#subject to\n",
    "#x1 + x2 <=4\n",
    "#x1 - x2 <=2\n",
    "#x1,x2>=0"
   ]
  },
  {
   "cell_type": "code",
   "execution_count": 6,
   "id": "27edad4d",
   "metadata": {},
   "outputs": [],
   "source": [
    "obj = [-3, -2]"
   ]
  },
  {
   "cell_type": "code",
   "execution_count": 7,
   "id": "af0325bc",
   "metadata": {},
   "outputs": [],
   "source": [
    "lhs_ineq = [[ 1,  1],  # Red constraint left side\n",
    "...             [1,  -1]]  # Blue constraint left side"
   ]
  },
  {
   "cell_type": "code",
   "execution_count": 8,
   "id": "68361284",
   "metadata": {},
   "outputs": [],
   "source": [
    "rhs_ineq = [4,  # Red constraint right side\n",
    "...             2]  # Blue constraint right side"
   ]
  },
  {
   "cell_type": "code",
   "execution_count": 9,
   "id": "b5d552ca",
   "metadata": {},
   "outputs": [],
   "source": [
    "bnd = [(0, float(\"inf\")),  # Bounds of x\n",
    "...        (0, float(\"inf\"))]  # Bounds of y"
   ]
  },
  {
   "cell_type": "code",
   "execution_count": 11,
   "id": "6a309632",
   "metadata": {},
   "outputs": [
    {
     "name": "stderr",
     "output_type": "stream",
     "text": [
      "C:\\Users\\micha\\AppData\\Local\\Temp\\ipykernel_4284\\1541766655.py:1: DeprecationWarning: `method='revised simplex'` is deprecated and will be removed in SciPy 1.11.0. Please use one of the HiGHS solvers (e.g. `method='highs'`) in new code.\n",
      "  opt = linprog(c=obj, A_ub=lhs_ineq, b_ub=rhs_ineq,\n"
     ]
    },
    {
     "data": {
      "text/plain": [
       "     con: array([], dtype=float64)\n",
       "     fun: -11.0\n",
       " message: 'Optimization terminated successfully.'\n",
       "     nit: 2\n",
       "   slack: array([0., 0.])\n",
       "  status: 0\n",
       " success: True\n",
       "       x: array([3., 1.])"
      ]
     },
     "execution_count": 11,
     "metadata": {},
     "output_type": "execute_result"
    }
   ],
   "source": [
    "opt = linprog(c=obj, A_ub=lhs_ineq, b_ub=rhs_ineq,\n",
    "...               bounds=bnd,method=\"revised simplex\")\n",
    "opt"
   ]
  },
  {
   "cell_type": "code",
   "execution_count": 12,
   "id": "fa448e7d",
   "metadata": {},
   "outputs": [
    {
     "data": {
      "text/plain": [
       "-11.0"
      ]
     },
     "execution_count": 12,
     "metadata": {},
     "output_type": "execute_result"
    }
   ],
   "source": [
    "opt.fun"
   ]
  },
  {
   "cell_type": "code",
   "execution_count": 13,
   "id": "0946fcb4",
   "metadata": {},
   "outputs": [
    {
     "data": {
      "text/plain": [
       "True"
      ]
     },
     "execution_count": 13,
     "metadata": {},
     "output_type": "execute_result"
    }
   ],
   "source": [
    "opt.success"
   ]
  },
  {
   "cell_type": "code",
   "execution_count": 14,
   "id": "33d1988a",
   "metadata": {},
   "outputs": [
    {
     "data": {
      "text/plain": [
       "array([3., 1.])"
      ]
     },
     "execution_count": 14,
     "metadata": {},
     "output_type": "execute_result"
    }
   ],
   "source": [
    "opt.x"
   ]
  },
  {
   "cell_type": "code",
   "execution_count": null,
   "id": "4e145766",
   "metadata": {},
   "outputs": [],
   "source": []
  }
 ],
 "metadata": {
  "kernelspec": {
   "display_name": "Python 3 (ipykernel)",
   "language": "python",
   "name": "python3"
  },
  "language_info": {
   "codemirror_mode": {
    "name": "ipython",
    "version": 3
   },
   "file_extension": ".py",
   "mimetype": "text/x-python",
   "name": "python",
   "nbconvert_exporter": "python",
   "pygments_lexer": "ipython3",
   "version": "3.9.12"
  }
 },
 "nbformat": 4,
 "nbformat_minor": 5
}
