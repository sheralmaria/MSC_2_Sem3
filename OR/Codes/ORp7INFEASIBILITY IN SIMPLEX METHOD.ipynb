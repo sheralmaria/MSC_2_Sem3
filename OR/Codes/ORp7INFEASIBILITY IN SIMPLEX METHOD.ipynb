{
 "cells": [
  {
   "cell_type": "code",
   "execution_count": 1,
   "id": "35d8f6aa",
   "metadata": {},
   "outputs": [],
   "source": [
    "#Max z= 200x - 300y\n",
    "#subject to\n",
    "#2x+3y>=1200\n",
    "#x+y<=400\n",
    "#2x+3/2y>=900\n",
    "#x,y>=0 "
   ]
  },
  {
   "cell_type": "code",
   "execution_count": 2,
   "id": "b5a70f54",
   "metadata": {},
   "outputs": [
    {
     "name": "stdout",
     "output_type": "stream",
     "text": [
      "Requirement already satisfied: scipy in c:\\users\\micha\\anaconda3\\lib\\site-packages (1.9.1)Note: you may need to restart the kernel to use updated packages.\n",
      "\n",
      "Requirement already satisfied: numpy<1.25.0,>=1.18.5 in c:\\users\\micha\\anaconda3\\lib\\site-packages (from scipy) (1.23.3)\n"
     ]
    }
   ],
   "source": [
    "%pip install scipy"
   ]
  },
  {
   "cell_type": "code",
   "execution_count": 3,
   "id": "314d5d2f",
   "metadata": {},
   "outputs": [],
   "source": [
    "from scipy.optimize import linprog"
   ]
  },
  {
   "cell_type": "code",
   "execution_count": 4,
   "id": "afd610ad",
   "metadata": {},
   "outputs": [],
   "source": [
    "obj = [-200, 300] "
   ]
  },
  {
   "cell_type": "code",
   "execution_count": 5,
   "id": "3fa82199",
   "metadata": {},
   "outputs": [],
   "source": [
    "lhs_ineq = [[ -2,  -3],  # Red constraint left side\n",
    "...             [1,  1],  # Blue constraint left side\n",
    "...             [ -2, -1.5]]  # Yellow constraint left side"
   ]
  },
  {
   "cell_type": "code",
   "execution_count": 6,
   "id": "581764dd",
   "metadata": {},
   "outputs": [],
   "source": [
    "rhs_ineq = [-1200,  # Red constraint right side\n",
    "...             400,  # Blue constraint right side\n",
    "...              -900]  # Yellow constraint right side "
   ]
  },
  {
   "cell_type": "code",
   "execution_count": 7,
   "id": "e321401c",
   "metadata": {},
   "outputs": [],
   "source": [
    "bnd = [(0, float(\"inf\")),  # Bounds of x\n",
    "...        (0, float(\"inf\"))]  # Bounds of y "
   ]
  },
  {
   "cell_type": "code",
   "execution_count": 8,
   "id": "75e50952",
   "metadata": {},
   "outputs": [
    {
     "name": "stderr",
     "output_type": "stream",
     "text": [
      "C:\\Users\\micha\\AppData\\Local\\Temp\\ipykernel_16044\\3607185299.py:1: DeprecationWarning: `method='revised simplex'` is deprecated and will be removed in SciPy 1.11.0. Please use one of the HiGHS solvers (e.g. `method='highs'`) in new code.\n",
      "  opt = linprog(c=obj, A_ub=lhs_ineq, b_ub=rhs_ineq,\n"
     ]
    }
   ],
   "source": [
    "opt = linprog(c=obj, A_ub=lhs_ineq, b_ub=rhs_ineq,\n",
    "...              bounds=bnd,\n",
    "...               method=\"revised simplex\") "
   ]
  },
  {
   "cell_type": "code",
   "execution_count": 9,
   "id": "cb8fe0d9",
   "metadata": {},
   "outputs": [
    {
     "data": {
      "text/plain": [
       "     con: array([], dtype=float64)\n",
       "     fun: 120000.0\n",
       " message: 'The problem appears infeasible, as the phase one auxiliary problem terminated successfully with a residual of 3.0e+02, greater than the tolerance 1e-12 required for the solution to be considered feasible. Consider increasing the tolerance to be greater than 3.0e+02. If this tolerance is unnaceptably large, the problem is likely infeasible.'\n",
       "     nit: 1\n",
       "   slack: array([   0.,    0., -300.])\n",
       "  status: 2\n",
       " success: False\n",
       "       x: array([  0., 400.])"
      ]
     },
     "execution_count": 9,
     "metadata": {},
     "output_type": "execute_result"
    }
   ],
   "source": [
    "opt"
   ]
  },
  {
   "cell_type": "code",
   "execution_count": null,
   "id": "5cf9b2c4",
   "metadata": {},
   "outputs": [],
   "source": []
  }
 ],
 "metadata": {
  "kernelspec": {
   "display_name": "Python 3 (ipykernel)",
   "language": "python",
   "name": "python3"
  },
  "language_info": {
   "codemirror_mode": {
    "name": "ipython",
    "version": 3
   },
   "file_extension": ".py",
   "mimetype": "text/x-python",
   "name": "python",
   "nbconvert_exporter": "python",
   "pygments_lexer": "ipython3",
   "version": "3.9.12"
  }
 },
 "nbformat": 4,
 "nbformat_minor": 5
}
