{
 "cells": [
  {
   "cell_type": "code",
   "execution_count": 1,
   "id": "3f942ee7",
   "metadata": {},
   "outputs": [
    {
     "name": "stdout",
     "output_type": "stream",
     "text": [
      "Requirement already satisfied: scipy in c:\\users\\micha\\anaconda3\\lib\\site-packages (1.9.1)\n",
      "Requirement already satisfied: numpy<1.25.0,>=1.18.5 in c:\\users\\micha\\anaconda3\\lib\\site-packages (from scipy) (1.23.3)\n",
      "Note: you may need to restart the kernel to use updated packages.\n"
     ]
    }
   ],
   "source": [
    "%pip install scipy"
   ]
  },
  {
   "cell_type": "code",
   "execution_count": 2,
   "id": "64d7fb8d",
   "metadata": {},
   "outputs": [],
   "source": [
    "from scipy.optimize import linprog"
   ]
  },
  {
   "cell_type": "code",
   "execution_count": 3,
   "id": "04ec6a3c",
   "metadata": {},
   "outputs": [],
   "source": [
    "#Max z=x+2y\n",
    "#subject to\n",
    "#2x+y<=20\n",
    "#-4x+5y<=10\n",
    "#-x+2y>=-2\n",
    "#-x+5y=15\n",
    "#x,y>=0"
   ]
  },
  {
   "cell_type": "code",
   "execution_count": 4,
   "id": "5ea4211a",
   "metadata": {},
   "outputs": [],
   "source": [
    "obj = [-1, -2]"
   ]
  },
  {
   "cell_type": "code",
   "execution_count": 5,
   "id": "169ed336",
   "metadata": {},
   "outputs": [],
   "source": [
    "lhs_ineq = [[ 2,  1],  # Red constraint left side\n",
    "...             [-4,  5],  # Blue constraint left side\n",
    "...             [ 1, -2]]  # Yellow constraint left side"
   ]
  },
  {
   "cell_type": "code",
   "execution_count": 6,
   "id": "51b2fa1b",
   "metadata": {},
   "outputs": [],
   "source": [
    "rhs_ineq = [20,  # Red constraint right side\n",
    "...             10,  # Blue constraint right side\n",
    "...              2]  # Yellow constraint right side"
   ]
  },
  {
   "cell_type": "code",
   "execution_count": 7,
   "id": "d999a524",
   "metadata": {},
   "outputs": [],
   "source": [
    "lhs_eq = [[-1, 5]]  # Green constraint left side\n",
    "rhs_eq = [15]       # Green constraint right side"
   ]
  },
  {
   "cell_type": "code",
   "execution_count": 8,
   "id": "c4d3fa2c",
   "metadata": {},
   "outputs": [],
   "source": [
    "bnd = [(0, float(\"inf\")),  # Bounds of x\n",
    "...        (0, float(\"inf\"))]  # Bounds of y"
   ]
  },
  {
   "cell_type": "code",
   "execution_count": 9,
   "id": "7912026e",
   "metadata": {},
   "outputs": [
    {
     "name": "stderr",
     "output_type": "stream",
     "text": [
      "C:\\Users\\micha\\AppData\\Local\\Temp\\ipykernel_10568\\3749963345.py:1: DeprecationWarning: `method='revised simplex'` is deprecated and will be removed in SciPy 1.11.0. Please use one of the HiGHS solvers (e.g. `method='highs'`) in new code.\n",
      "  opt = linprog(c=obj, A_ub=lhs_ineq, b_ub=rhs_ineq,\n"
     ]
    },
    {
     "data": {
      "text/plain": [
       "     con: array([0.])\n",
       "     fun: -16.818181818181817\n",
       " message: 'Optimization terminated successfully.'\n",
       "     nit: 3\n",
       "   slack: array([ 0.        , 18.18181818,  3.36363636])\n",
       "  status: 0\n",
       " success: True\n",
       "       x: array([7.72727273, 4.54545455])"
      ]
     },
     "execution_count": 9,
     "metadata": {},
     "output_type": "execute_result"
    }
   ],
   "source": [
    "opt = linprog(c=obj, A_ub=lhs_ineq, b_ub=rhs_ineq,\n",
    "...               A_eq=lhs_eq, b_eq=rhs_eq, bounds=bnd,\n",
    "...               method=\"revised simplex\")\n",
    "opt"
   ]
  },
  {
   "cell_type": "code",
   "execution_count": null,
   "id": "fca4f083",
   "metadata": {},
   "outputs": [],
   "source": []
  }
 ],
 "metadata": {
  "kernelspec": {
   "display_name": "Python 3 (ipykernel)",
   "language": "python",
   "name": "python3"
  },
  "language_info": {
   "codemirror_mode": {
    "name": "ipython",
    "version": 3
   },
   "file_extension": ".py",
   "mimetype": "text/x-python",
   "name": "python",
   "nbconvert_exporter": "python",
   "pygments_lexer": "ipython3",
   "version": "3.9.12"
  }
 },
 "nbformat": 4,
 "nbformat_minor": 5
}
