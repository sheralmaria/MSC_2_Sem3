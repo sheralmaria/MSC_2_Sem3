{
 "cells": [
  {
   "cell_type": "code",
   "execution_count": 1,
   "id": "b5bec93d",
   "metadata": {},
   "outputs": [
    {
     "name": "stdout",
     "output_type": "stream",
     "text": [
      "Requirement already satisfied: scipy in c:\\users\\micha\\anaconda3\\lib\\site-packages (1.9.1)Note: you may need to restart the kernel to use updated packages.\n",
      "\n",
      "Requirement already satisfied: numpy<1.25.0,>=1.18.5 in c:\\users\\micha\\anaconda3\\lib\\site-packages (from scipy) (1.23.3)\n"
     ]
    }
   ],
   "source": [
    "%pip install scipy"
   ]
  },
  {
   "cell_type": "code",
   "execution_count": 2,
   "id": "4d3e065c",
   "metadata": {},
   "outputs": [],
   "source": [
    "from scipy.optimize import linprog"
   ]
  },
  {
   "cell_type": "code",
   "execution_count": 3,
   "id": "09fdd8de",
   "metadata": {},
   "outputs": [],
   "source": [
    "#Min z= x1-3x2+2x3\n",
    "#subject to\n",
    "#3x1-x2+3x3<=7\n",
    "#-2x1+4x2<=12\n",
    "#-4x1+3x2+8x3<=10\n",
    "#x1,x2,x3>=0"
   ]
  },
  {
   "cell_type": "code",
   "execution_count": 4,
   "id": "07fbfb1e",
   "metadata": {},
   "outputs": [],
   "source": [
    "obj = [1, -3, 2]"
   ]
  },
  {
   "cell_type": "code",
   "execution_count": 5,
   "id": "8dc9e571",
   "metadata": {},
   "outputs": [],
   "source": [
    "lhs_ineq = [[ 3,  -1, 3],  # Red constraint left side\n",
    "...             [-2, 4, 0],  # Blue constraint left side\n",
    "...               [ -4, 3, 8]]  # Yellow constraint left side"
   ]
  },
  {
   "cell_type": "code",
   "execution_count": 6,
   "id": "fd5521d7",
   "metadata": {},
   "outputs": [],
   "source": [
    "rhs_ineq = [7,  # Red constraint right side\n",
    "...             12,  # Blue constraint right side\n",
    "...              10]  # Yellow constraint right side"
   ]
  },
  {
   "cell_type": "code",
   "execution_count": 7,
   "id": "c074485a",
   "metadata": {},
   "outputs": [],
   "source": [
    "bnd = [(0, float(\"inf\")),  # Bounds of x\n",
    "...        (0, float(\"inf\")),\n",
    "...        (0, float(\"inf\"))]  # Bounds of y"
   ]
  },
  {
   "cell_type": "code",
   "execution_count": 8,
   "id": "c527a47b",
   "metadata": {},
   "outputs": [
    {
     "name": "stderr",
     "output_type": "stream",
     "text": [
      "C:\\Users\\micha\\AppData\\Local\\Temp\\ipykernel_6180\\3080251418.py:1: DeprecationWarning: `method='revised simplex'` is deprecated and will be removed in SciPy 1.11.0. Please use one of the HiGHS solvers (e.g. `method='highs'`) in new code.\n",
      "  opt = linprog(c=obj, A_ub=lhs_ineq, b_ub=rhs_ineq,\n"
     ]
    },
    {
     "data": {
      "text/plain": [
       "     con: array([], dtype=float64)\n",
       "     fun: -11.0\n",
       " message: 'Optimization terminated successfully.'\n",
       "     nit: 2\n",
       "   slack: array([ 0.,  0., 11.])\n",
       "  status: 0\n",
       " success: True\n",
       "       x: array([4., 5., 0.])"
      ]
     },
     "execution_count": 8,
     "metadata": {},
     "output_type": "execute_result"
    }
   ],
   "source": [
    "opt = linprog(c=obj, A_ub=lhs_ineq, b_ub=rhs_ineq,\n",
    "...               bounds=bnd,\n",
    "...               method=\"revised simplex\")\n",
    "opt"
   ]
  },
  {
   "cell_type": "code",
   "execution_count": null,
   "id": "6b2dcb69",
   "metadata": {},
   "outputs": [],
   "source": []
  }
 ],
 "metadata": {
  "kernelspec": {
   "display_name": "Python 3 (ipykernel)",
   "language": "python",
   "name": "python3"
  },
  "language_info": {
   "codemirror_mode": {
    "name": "ipython",
    "version": 3
   },
   "file_extension": ".py",
   "mimetype": "text/x-python",
   "name": "python",
   "nbconvert_exporter": "python",
   "pygments_lexer": "ipython3",
   "version": "3.9.12"
  }
 },
 "nbformat": 4,
 "nbformat_minor": 5
}
